{
 "cells": [
  {
   "cell_type": "markdown",
   "id": "442c2dbc",
   "metadata": {},
   "source": [
    "# ASSIGNMENT 2"
   ]
  },
  {
   "cell_type": "markdown",
   "id": "c9618f4d",
   "metadata": {},
   "source": [
    "# SET_1 --Descriptive+statistics+Probability--"
   ]
  },
  {
   "cell_type": "markdown",
   "id": "06067e1e",
   "metadata": {},
   "source": [
    "# Question-1"
   ]
  },
  {
   "cell_type": "code",
   "execution_count": 1,
   "id": "af50cc6e",
   "metadata": {
    "ExecuteTime": {
     "end_time": "2023-02-03T15:49:17.851504Z",
     "start_time": "2023-02-03T15:49:17.819454Z"
    }
   },
   "outputs": [
    {
     "ename": "SyntaxError",
     "evalue": "invalid syntax (1226671076.py, line 2)",
     "output_type": "error",
     "traceback": [
      "\u001b[1;36m  File \u001b[1;32m\"C:\\Users\\Saimani\\AppData\\Local\\Temp\\ipykernel_21496\\1226671076.py\"\u001b[1;36m, line \u001b[1;32m2\u001b[0m\n\u001b[1;33m    Allied Signal\t24.23%\u001b[0m\n\u001b[1;37m           ^\u001b[0m\n\u001b[1;31mSyntaxError\u001b[0m\u001b[1;31m:\u001b[0m invalid syntax\n"
     ]
    }
   ],
   "source": [
    "#Finding outliers, mean, standard deviation and variance of below data having COMPANYS' NAME AND MEASURE OF X\n",
    "Allied Signal\t24.23%\n",
    "Bankers Trust\t25.53%\n",
    "General Mills\t25.41%\n",
    "ITT Industries\t24.14%\n",
    "J.P.Morgan & Co.\t29.62%\n",
    "Lehman Brothers\t28.25%\n",
    "Marriott\t25.81%\n",
    "MCI\t24.39%\n",
    "Merrill Lynch\t40.26%\n",
    "Microsoft\t32.95%\n",
    "Morgan Stanley\t91.36%\n",
    "Sun Microsystems\t25.99%\n",
    "Travelers\t39.42%\n",
    "US Airways\t26.71%\n",
    "Warner-Lambert\t35.00%"
   ]
  },
  {
   "cell_type": "code",
   "execution_count": null,
   "id": "81c49a11",
   "metadata": {
    "ExecuteTime": {
     "end_time": "2023-02-03T15:49:17.851504Z",
     "start_time": "2023-02-03T15:49:17.851504Z"
    }
   },
   "outputs": [],
   "source": [
    "import pandas as pd\n",
    "import numpy as np\n",
    "import matplotlib.pyplot as plt\n",
    "import seaborn as sns\n",
    "import scipy.stats as stats\n",
    "import statsmodels.api as smf\n",
    "import warnings\n",
    "warnings.filterwarnings(\"ignore\")"
   ]
  },
  {
   "cell_type": "code",
   "execution_count": null,
   "id": "d432d923",
   "metadata": {
    "ExecuteTime": {
     "end_time": "2023-02-03T15:49:17.860129Z",
     "start_time": "2023-02-03T15:49:17.860129Z"
    }
   },
   "outputs": [],
   "source": [
    "company_name= ['Allied Signal','Bankers Trust','General Mills','ITT Industries','J.P.Morgan & Co.','Lehman Brothers',\n",
    "      'Marriott','MCI','Merrill Lynch','Microsoft','Morgan Stanley','Sun Microsystems','Travelers','US Airways',\n",
    "      'Warner-Lambert']\n",
    "measure_x = [24.23,25.53,25.41,24.14,29.62,28.25,25.81,24.39,40.26,32.95,91.36,25.99,39.42,26.71,35.00]\n",
    "\n",
    "plt.figure(figsize = (15,15))\n",
    "plt.pie(measure_x, labels = company_name,autopct='%.2f%%',textprops = {'size':'medium','fontweight':'bold','color':'black'})\n",
    "plt.title('Name of Companies with respect to X', fontsize = 22, fontweight = 'bold', color='black')\n",
    "plt.show()"
   ]
  },
  {
   "cell_type": "code",
   "execution_count": null,
   "id": "b4fcf34d",
   "metadata": {
    "ExecuteTime": {
     "end_time": "2023-02-03T15:49:17.860129Z",
     "start_time": "2023-02-03T15:49:17.860129Z"
    },
    "scrolled": true
   },
   "outputs": [],
   "source": [
    "measure_x=pd.Series(measure_x)\n",
    "Q1=np.quantile(measure_x,0.25)\n",
    "print(\"=\"*60)\n",
    "print(\"The quartile1 ={}\".format(Q1))\n",
    "Q3=np.quantile(measure_x,0.75)\n",
    "print(\"The quartile3 ={}\".format(Q3))\n",
    "IQR=Q3-Q1\n",
    "print(\"Interquartile range={}\".format(IQR))\n",
    "upper_limit=Q3+(1.5*IQR)\n",
    "print(\"The upper limit is={}\".format(upper_limit))\n",
    "lower_limit=Q1-(1.5*IQR)\n",
    "print(\"The lower limit is={}\".format(lower_limit))\n",
    "print(\"=\"*60)\n",
    "outliers=measure_x[(measure_x<lower_limit)|(measure_x>upper_limit)]\n",
    "print(\"The outliers are {}\".format(outliers))\n",
    "print(\"=\"*60)\n",
    "print(\"variance=\",measure_x.var())\n",
    "print(\"=\"*60)\n",
    "measure_x.describe()\n"
   ]
  },
  {
   "cell_type": "markdown",
   "id": "1c14fbc9",
   "metadata": {},
   "source": [
    "# ---------------------------------------------------------------------------------------------------------------"
   ]
  },
  {
   "cell_type": "markdown",
   "id": "6590b650",
   "metadata": {},
   "source": [
    "# SET_2 --Normal+Distribution+Functions+of+random+variables--"
   ]
  },
  {
   "cell_type": "markdown",
   "id": "fb54a766",
   "metadata": {},
   "source": [
    "# Question-1"
   ]
  },
  {
   "cell_type": "code",
   "execution_count": null,
   "id": "111cbe84",
   "metadata": {
    "ExecuteTime": {
     "end_time": "2023-02-03T15:49:17.867636Z",
     "start_time": "2023-02-03T15:49:17.867636Z"
    }
   },
   "outputs": [],
   "source": [
    "# \"\"The time required for servicing trnasmissions is normally distributed with mean=45 minutes.As the worker starts servicing\n",
    "#    the car 10 minutes after droppinf off with a standard of 8 minutes.But the customer asked the service manager to get ready the \n",
    "#    car in 1 hour(60 minutes).So the probability that the service manager cannot meet his commitment is.....?\"\"\n",
    "\n"
   ]
  },
  {
   "cell_type": "code",
   "execution_count": null,
   "id": "396aa90b",
   "metadata": {
    "ExecuteTime": {
     "end_time": "2023-02-03T15:49:17.871512Z",
     "start_time": "2023-02-03T15:49:17.871512Z"
    }
   },
   "outputs": [],
   "source": [
    "import numpy as np\n",
    "from scipy import stats\n",
    "# X(total time)= 60 minutes\n",
    "# mean= 55 minutes\n",
    "#standard deviation= 8 minutes"
   ]
  },
  {
   "cell_type": "code",
   "execution_count": null,
   "id": "c2f9e93d",
   "metadata": {
    "ExecuteTime": {
     "end_time": "2023-02-03T15:49:17.876068Z",
     "start_time": "2023-02-03T15:49:17.876068Z"
    }
   },
   "outputs": [],
   "source": [
    "# As it is normally distrubuted we use\n",
    "P=1-stats.norm.cdf(60,55,8)\n",
    "print(\"The probability that the service manager cannot meet his commitment is\",np.round(P,5))\n"
   ]
  },
  {
   "cell_type": "markdown",
   "id": "f35f8ef6",
   "metadata": {},
   "source": [
    "# Question-2"
   ]
  },
  {
   "cell_type": "code",
   "execution_count": null,
   "id": "f23aef2a",
   "metadata": {
    "ExecuteTime": {
     "end_time": "2023-02-03T15:49:17.876068Z",
     "start_time": "2023-02-03T15:49:17.876068Z"
    }
   },
   "outputs": [],
   "source": [
    "# \"\"The current age (in years) of 400 clerical employees at an insurance claims processing center\n",
    "#   is normally distributed with mean  = 38 and Standard deviation  =6.Justifying the below statements.\n",
    "# --------------------------------------------------------------------------------------------------------------------\n",
    "# A.More employees at the processing center are older than 44 than between 38 and 44."
   ]
  },
  {
   "cell_type": "code",
   "execution_count": null,
   "id": "ea84b122",
   "metadata": {
    "ExecuteTime": {
     "end_time": "2023-02-03T15:49:17.876068Z",
     "start_time": "2023-02-03T15:49:17.876068Z"
    }
   },
   "outputs": [],
   "source": [
    "# Mean= 38\n",
    "# standard deviation= 6"
   ]
  },
  {
   "cell_type": "code",
   "execution_count": null,
   "id": "f62a6435",
   "metadata": {
    "ExecuteTime": {
     "end_time": "2023-02-03T15:49:17.884151Z",
     "start_time": "2023-02-03T15:49:17.884151Z"
    }
   },
   "outputs": [],
   "source": [
    "p_1=stats.norm.cdf(44,38,6)*100\n",
    "print(\"The probability of employees below 44-age= \",np.round(p_1,2),'%')\n",
    "p_2=stats.norm.cdf(38,38,6)*100\n",
    "print(\"The probability of employees below 38-age= \",np.round(p_2,2),'%')\n",
    "print(\"=\"*80)\n",
    "fourtyfour_plus=100-p_1\n",
    "print(\"The probability of employees older than 44= \",np.round(k,2),\"%\")\n",
    "B_38_44=p_1-p_2\n",
    "print(\"The probability of employees between age38-age44= \",np.round(B_38_44,2),'%')\n",
    "print(\"=\"*80)"
   ]
  },
  {
   "cell_type": "code",
   "execution_count": null,
   "id": "e749be9e",
   "metadata": {
    "ExecuteTime": {
     "end_time": "2023-02-03T15:49:17.888668Z",
     "start_time": "2023-02-03T15:49:17.888668Z"
    }
   },
   "outputs": [],
   "source": [
    "# As the probability of employees between age38-age44 is more. The above statement is FALSE"
   ]
  },
  {
   "cell_type": "code",
   "execution_count": null,
   "id": "69d9df80",
   "metadata": {
    "ExecuteTime": {
     "end_time": "2023-02-03T15:49:17.892175Z",
     "start_time": "2023-02-03T15:49:17.892175Z"
    }
   },
   "outputs": [],
   "source": [
    "# B.A training program for employees under the age of 30 at the center would be expected to attract about 36 employees.\n",
    "p_3=stats.norm.cdf(30,38,6)*100\n",
    "workers=(400*p_3)/100\n",
    "print(\"=\"*80)\n",
    "print(\"Number of employees under the age of 30= \",np.round(workers))\n",
    "print(\"=\"*80)"
   ]
  },
  {
   "cell_type": "code",
   "execution_count": null,
   "id": "1cf0a147",
   "metadata": {
    "ExecuteTime": {
     "end_time": "2023-02-03T15:49:17.892175Z",
     "start_time": "2023-02-03T15:49:17.892175Z"
    }
   },
   "outputs": [],
   "source": [
    "# Yes,the above statement is TRUE.training program for employees at the center would be expected  to attract about 36 employees."
   ]
  },
  {
   "cell_type": "markdown",
   "id": "89df87be",
   "metadata": {},
   "source": [
    "# Question-4"
   ]
  },
  {
   "cell_type": "code",
   "execution_count": null,
   "id": "400abaaf",
   "metadata": {
    "ExecuteTime": {
     "end_time": "2023-02-03T15:49:17.900186Z",
     "start_time": "2023-02-03T15:49:17.900186Z"
    }
   },
   "outputs": [],
   "source": [
    "#  \"\"Let X ~ N(100, 202). Find two values, a and b, symmetric about the mean, such that the probability of the random variable taking a value between them is 0.99.\n",
    "#     A.90.5, 105.9\n",
    "#     B.80.2, 119.8\n",
    "#     C.22, 78\n",
    "#     D.48.5, 151.5\n",
    "#     E.90.1, 109.9 \"\""
   ]
  },
  {
   "cell_type": "code",
   "execution_count": null,
   "id": "05763ae8",
   "metadata": {
    "ExecuteTime": {
     "end_time": "2023-02-03T15:49:17.900186Z",
     "start_time": "2023-02-03T15:49:17.900186Z"
    }
   },
   "outputs": [],
   "source": [
    "# given that the probability of random variabile taking a value between a and b is 0.99\n",
    "mean= 100\n",
    "std= 20\n",
    "import numpy as np\n",
    "from scipy import stats\n",
    "a,b=np.round(stats.norm.interval(.99,mean,std),2)\n",
    "print(\"The two values a,b is {} when the probability of random variabile taking a value between a and b is 0.99.Therefore option <D> is correct.\".format(a,b))"
   ]
  },
  {
   "cell_type": "markdown",
   "id": "2f20a491",
   "metadata": {},
   "source": [
    "# Question-5"
   ]
  },
  {
   "cell_type": "code",
   "execution_count": null,
   "id": "6bfc65c8",
   "metadata": {
    "ExecuteTime": {
     "end_time": "2023-02-03T15:49:17.900186Z",
     "start_time": "2023-02-03T15:49:17.900186Z"
    }
   },
   "outputs": [],
   "source": [
    "# \"\"Consider a company that has two different divisions. The annual profits from the two divisions are independent and\n",
    "#   have distributionsProfit1 ~ N(5, 32) and Profit2 ~ N(7, 42) respectively. Both the profits are in USD Million.\n",
    "#   Answer the following questions about the total profit of the company in Rupees. Assume that 1USD = Rs. 45\"\""
   ]
  },
  {
   "cell_type": "code",
   "execution_count": null,
   "id": "f0fc3cbd",
   "metadata": {
    "ExecuteTime": {
     "end_time": "2023-02-03T15:49:17.908185Z",
     "start_time": "2023-02-03T15:49:17.908185Z"
    }
   },
   "outputs": [],
   "source": [
    "# lets combine the mean of both divisions profits(profit1,profit2)\n",
    "# NOTE: 1 USD = 45 rupees\n",
    "mean1=5  \n",
    "mean2=7\n",
    "mean=(mean1+mean2)\n",
    "\n",
    "std1=3**2  \n",
    "std2=4**2\n",
    "std=np.sqrt(std1+std2)\n",
    "print(\"The profit mean of both the divisions in a company is\",mean,\"millions\")\n",
    "print(\"The profit std of both the divisions in a company is\",std,\"millions\")\n",
    "print(\"=\"*80)\n",
    "print(\">The profit mean of both the divisions in a company is\",(mean*45)/10,\"crore rupees\")\n",
    "print(\">The profit std of both the divisions in a company is\",(std*45)/10,\"crore rupees\")\n",
    "print(\"=\"*80)"
   ]
  },
  {
   "cell_type": "code",
   "execution_count": null,
   "id": "15e108cb",
   "metadata": {
    "ExecuteTime": {
     "end_time": "2023-02-03T15:49:17.908185Z",
     "start_time": "2023-02-03T15:49:17.908185Z"
    }
   },
   "outputs": [],
   "source": [
    "# A.Specify a Rupee range (centered on the mean) such that it contains 95% probability for the annual profit of the company.\n",
    "# given that probability for annual profit of the company is 95%  <<confidence level=0.95>>\n",
    "r1,r2=np.round(stats.norm.interval(.95,mean,std),2)\n",
    "print(\"Rupee ranges from \",r1,\"to\" ,r2,\"millions$ for 95% probability for annual profit of the company\")\n",
    "print(\"=\"*120)\n",
    "print(\">Rupee ranges from \",(r1*45)/10,\"to\" ,(r2*45)/10,\"crore rupees for 95% probability for annual profit of the company\")\n",
    "print(\"=\"*120)"
   ]
  },
  {
   "cell_type": "code",
   "execution_count": null,
   "id": "e5e6af71",
   "metadata": {
    "ExecuteTime": {
     "end_time": "2023-02-03T15:49:17.916184Z",
     "start_time": "2023-02-03T15:49:17.916184Z"
    }
   },
   "outputs": [],
   "source": [
    "# B.Specify the 5th percentile of profit (in Rupees) for the company\n",
    "# Z_score for 5th percentile(0.05) is\n",
    "z_score=stats.norm.ppf(0.05)\n",
    "per_5=(z_score*std)+mean\n",
    "per_5\n",
    "print(\"The 5th percentile of profit for the company is\",np.round(per_5,2),\"millions$\")\n",
    "print(\"=\"*80)\n",
    "print(\">The 5th percentile of profit for the company is\",np.round((per_5*45)/10,2),\"crore rupees\")\n",
    "print(\"=\"*80)"
   ]
  },
  {
   "cell_type": "code",
   "execution_count": null,
   "id": "d14a5d5c",
   "metadata": {
    "ExecuteTime": {
     "end_time": "2023-02-03T15:49:17.916184Z",
     "start_time": "2023-02-03T15:49:17.916184Z"
    }
   },
   "outputs": [],
   "source": [
    "# C.Which of the two divisions has a larger probability of making a loss in a given year\n",
    "# finding probability of making loss\n",
    "division1=stats.norm.cdf(0,5,3)*100\n",
    "division2=stats.norm.cdf(0,7,4)*100\n",
    "print(\"The probability of division1 making loss in a given year=\",np.round(division1,2),\"%\")\n",
    "print(\"The probability of division2 making loss in a given year=\",np.round(division2,2),\"%\")\n",
    "print('='*80)\n",
    "if division1>division2:\n",
    "    print(\"division1 is has a larger probability of making a loss in a given year\")\n",
    "else:\n",
    "    print(\"division2 has a larger probability of making a loss in a given year\")\n",
    "print('='*80)  "
   ]
  },
  {
   "cell_type": "markdown",
   "id": "51f15757",
   "metadata": {},
   "source": [
    "# ---------------------------------------------------------------------------------------------------------------"
   ]
  },
  {
   "cell_type": "markdown",
   "id": "2ee5ebdb",
   "metadata": {},
   "source": [
    "# SET_4"
   ]
  },
  {
   "cell_type": "markdown",
   "id": "ba3fcb1f",
   "metadata": {},
   "source": [
    "# Question-3"
   ]
  },
  {
   "cell_type": "code",
   "execution_count": null,
   "id": "f0f8abcd",
   "metadata": {
    "ExecuteTime": {
     "end_time": "2023-02-03T15:49:17.916184Z",
     "start_time": "2023-02-03T15:49:17.916184Z"
    }
   },
   "outputs": [],
   "source": [
    "#  \"\"3.Auditors at a small community bank randomly sample 100 withdrawal transactions made during the week at an ATM machine\n",
    "#   located near the bank’s main branch. Over the past 2 years, the average withdrawal amount has been $50 with a standard\n",
    "#   deviation of $40. Since audit investigations are typically expensive, the auditors decide to not initiate further investigations \n",
    "#   if the mean transaction amount of the sample is between $45 and $55. What is the probability that in any given week,\n",
    "#   there will be an investigation?\"\""
   ]
  },
  {
   "cell_type": "code",
   "execution_count": null,
   "id": "eeac5b6e",
   "metadata": {
    "ExecuteTime": {
     "end_time": "2023-02-03T15:49:17.927370Z",
     "start_time": "2023-02-03T15:49:17.927370Z"
    }
   },
   "outputs": [],
   "source": [
    "from scipy import stats\n",
    "import numpy as np\n",
    "n=100     # number of samples\n",
    "mean=50   # mean of sample observations\n",
    "std=40    # std of sample\n",
    "# As the obervations behond 30 we follow T distribution,that gives the exact probability\n",
    "# If 45<X<55 => NO INVESTGATION # wher X is mean transaction\n",
    "# If 45>X>55 => INVESTGATION\n",
    "t1=(45-50)/(40/np.sqrt(100))\n",
    "print(\"T_score when mean is 45=\",t1)\n",
    "t2=(55-50)/(40/np.sqrt(100))\n",
    "print(\"T_score when mean is 55=\",t2)\n",
    "s1=stats.t.cdf(t1,99)\n",
    "print(\"probability of lowerlimit(<45) is =\",s1)\n",
    "s2=stats.t.cdf(t2,99)\n",
    "print(\"probability of lowerlimit(<55) is =\",s2)\n",
    "s=s2-s1\n",
    "print(\"probability between 45<x<55 =\",s)\n",
    "prob=(1-s)*100\n",
    "print(\"=\"*80)\n",
    "print(\"The probability that in any given week, there will be an investigation is\",np.round(prob,2),'%')\n",
    "print(\"=\"*80)"
   ]
  },
  {
   "cell_type": "markdown",
   "id": "1febc660",
   "metadata": {
    "ExecuteTime": {
     "end_time": "2023-02-01T04:39:55.956586Z",
     "start_time": "2023-02-01T04:39:55.934207Z"
    }
   },
   "source": [
    "# Question_4"
   ]
  },
  {
   "cell_type": "code",
   "execution_count": null,
   "id": "be6ac3c0",
   "metadata": {
    "ExecuteTime": {
     "end_time": "2023-02-03T15:49:17.929266Z",
     "start_time": "2023-02-03T15:49:17.929266Z"
    }
   },
   "outputs": [],
   "source": [
    "#\"\"The auditors from the above example would like to maintain the probability of investigation to 5%.\n",
    "#  Which of the following represents the minimum number transactions that they should sample if they do not want to change\n",
    "#  the thresholds of 45 and 55?\n",
    "#  Assume that the sample statistics remain unchanged. x_bar = 45\"\"\n",
    "import warnings\n",
    "warnings.filterwarnings('ignore')\n",
    "s_mean=50\n",
    "x_=45\n",
    "s_std=40 # sample standard deviation \n",
    "t = np.round(stats.t.ppf(0.025, df = 249),2)\n",
    "# T=(x_-mean)/(std_/sqrt of n) where n is number of samples\n",
    "# T=5/(40/sqrt(n))\n",
    "# n=(sample_standard_deviation*tscore)/(sample_mean=population_mean)\n",
    "n=((s_std*abs(t))/(5))**2\n",
    "print('The Auditors would like to maintain the probability of investigation to 5%, they should sample',np.round(n,),'transactions if they do not want to change the thresholds of 45 to 55')\n",
    "\n",
    "df= n-1\n",
    "print(n, df)\n",
    "np.round(stats.t.interval(alpha = 0.95,df = df,loc = s_mean,scale = s_std/np.sqrt(n)),)"
   ]
  },
  {
   "cell_type": "markdown",
   "id": "f141f07c",
   "metadata": {},
   "source": [
    "# ============================================================"
   ]
  }
 ],
 "metadata": {
  "gist": {
   "data": {
    "description": "SMD ASSIGNMENT-2(BASICS STATISTICS-2).ipynb",
    "public": true
   },
   "id": ""
  },
  "kernelspec": {
   "display_name": "Python 3 (ipykernel)",
   "language": "python",
   "name": "python3"
  },
  "language_info": {
   "codemirror_mode": {
    "name": "ipython",
    "version": 3
   },
   "file_extension": ".py",
   "mimetype": "text/x-python",
   "name": "python",
   "nbconvert_exporter": "python",
   "pygments_lexer": "ipython3",
   "version": "3.9.13"
  }
 },
 "nbformat": 4,
 "nbformat_minor": 5
}
