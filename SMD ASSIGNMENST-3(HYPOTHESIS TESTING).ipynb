{
 "cells": [
  {
   "cell_type": "markdown",
   "id": "6cf07680",
   "metadata": {},
   "source": [
    "# ASSIGNMENT 3"
   ]
  },
  {
   "cell_type": "code",
   "execution_count": 50,
   "id": "d6d7c7c2",
   "metadata": {
    "ExecuteTime": {
     "end_time": "2023-02-03T17:48:24.798702Z",
     "start_time": "2023-02-03T17:48:24.774696Z"
    }
   },
   "outputs": [],
   "source": [
    "import pandas as pd\n",
    "import numpy as np\n",
    "import seaborn as sns\n",
    "import matplotlib.pyplot as plt\n",
    "import statsmodels.api as sms\n",
    "from scipy import stats\n",
    "import warnings\n",
    "warnings.filterwarnings('ignore')\n",
    "import statsmodels as sm\n",
    "from scipy.stats import chi2_contingency\n",
    "from scipy.stats import chisquare"
   ]
  },
  {
   "cell_type": "markdown",
   "id": "0fc846d1",
   "metadata": {},
   "source": [
    "# Hypothesis Testing"
   ]
  },
  {
   "cell_type": "markdown",
   "id": "8c6cadb2",
   "metadata": {},
   "source": [
    "# Question-1"
   ]
  },
  {
   "cell_type": "raw",
   "id": "26cd165c",
   "metadata": {
    "ExecuteTime": {
     "end_time": "2023-02-03T06:09:45.030414Z",
     "start_time": "2023-02-03T06:09:45.021115Z"
    }
   },
   "source": [
    " \"\" A F&B manager wants to determine whether there is any significant difference in the diameter of the cutlet between two\n",
    " units. A randomly selected sample of cutlets was collected from both units and measured? Analyze the data and draw\n",
    " inferences at 5% significance level. Please state the assumptions and tests that you carried out to check validity of\n",
    " the assumptions.\"\"\n",
    " <<Minitab File : Cutlets.mtw>>"
   ]
  },
  {
   "cell_type": "code",
   "execution_count": 51,
   "id": "ec140dba",
   "metadata": {
    "ExecuteTime": {
     "end_time": "2023-02-03T17:48:24.846724Z",
     "start_time": "2023-02-03T17:48:24.798702Z"
    }
   },
   "outputs": [
    {
     "data": {
      "text/html": [
       "<div>\n",
       "<style scoped>\n",
       "    .dataframe tbody tr th:only-of-type {\n",
       "        vertical-align: middle;\n",
       "    }\n",
       "\n",
       "    .dataframe tbody tr th {\n",
       "        vertical-align: top;\n",
       "    }\n",
       "\n",
       "    .dataframe thead th {\n",
       "        text-align: right;\n",
       "    }\n",
       "</style>\n",
       "<table border=\"1\" class=\"dataframe\">\n",
       "  <thead>\n",
       "    <tr style=\"text-align: right;\">\n",
       "      <th></th>\n",
       "      <th>Unit A</th>\n",
       "      <th>Unit B</th>\n",
       "    </tr>\n",
       "  </thead>\n",
       "  <tbody>\n",
       "    <tr>\n",
       "      <th>0</th>\n",
       "      <td>6.8090</td>\n",
       "      <td>6.7703</td>\n",
       "    </tr>\n",
       "    <tr>\n",
       "      <th>1</th>\n",
       "      <td>6.4376</td>\n",
       "      <td>7.5093</td>\n",
       "    </tr>\n",
       "    <tr>\n",
       "      <th>2</th>\n",
       "      <td>6.9157</td>\n",
       "      <td>6.7300</td>\n",
       "    </tr>\n",
       "    <tr>\n",
       "      <th>3</th>\n",
       "      <td>7.3012</td>\n",
       "      <td>6.7878</td>\n",
       "    </tr>\n",
       "    <tr>\n",
       "      <th>4</th>\n",
       "      <td>7.4488</td>\n",
       "      <td>7.1522</td>\n",
       "    </tr>\n",
       "    <tr>\n",
       "      <th>5</th>\n",
       "      <td>7.3871</td>\n",
       "      <td>6.8110</td>\n",
       "    </tr>\n",
       "    <tr>\n",
       "      <th>6</th>\n",
       "      <td>6.8755</td>\n",
       "      <td>7.2212</td>\n",
       "    </tr>\n",
       "    <tr>\n",
       "      <th>7</th>\n",
       "      <td>7.0621</td>\n",
       "      <td>6.6606</td>\n",
       "    </tr>\n",
       "    <tr>\n",
       "      <th>8</th>\n",
       "      <td>6.6840</td>\n",
       "      <td>7.2402</td>\n",
       "    </tr>\n",
       "    <tr>\n",
       "      <th>9</th>\n",
       "      <td>6.8236</td>\n",
       "      <td>7.0503</td>\n",
       "    </tr>\n",
       "    <tr>\n",
       "      <th>10</th>\n",
       "      <td>7.3930</td>\n",
       "      <td>6.8810</td>\n",
       "    </tr>\n",
       "    <tr>\n",
       "      <th>11</th>\n",
       "      <td>7.5169</td>\n",
       "      <td>7.4059</td>\n",
       "    </tr>\n",
       "    <tr>\n",
       "      <th>12</th>\n",
       "      <td>6.9246</td>\n",
       "      <td>6.7652</td>\n",
       "    </tr>\n",
       "    <tr>\n",
       "      <th>13</th>\n",
       "      <td>6.9256</td>\n",
       "      <td>6.0380</td>\n",
       "    </tr>\n",
       "    <tr>\n",
       "      <th>14</th>\n",
       "      <td>6.5797</td>\n",
       "      <td>7.1581</td>\n",
       "    </tr>\n",
       "    <tr>\n",
       "      <th>15</th>\n",
       "      <td>6.8394</td>\n",
       "      <td>7.0240</td>\n",
       "    </tr>\n",
       "    <tr>\n",
       "      <th>16</th>\n",
       "      <td>6.5970</td>\n",
       "      <td>6.6672</td>\n",
       "    </tr>\n",
       "    <tr>\n",
       "      <th>17</th>\n",
       "      <td>7.2705</td>\n",
       "      <td>7.4314</td>\n",
       "    </tr>\n",
       "    <tr>\n",
       "      <th>18</th>\n",
       "      <td>7.2828</td>\n",
       "      <td>7.3070</td>\n",
       "    </tr>\n",
       "    <tr>\n",
       "      <th>19</th>\n",
       "      <td>7.3495</td>\n",
       "      <td>6.7478</td>\n",
       "    </tr>\n",
       "    <tr>\n",
       "      <th>20</th>\n",
       "      <td>6.9438</td>\n",
       "      <td>6.8889</td>\n",
       "    </tr>\n",
       "    <tr>\n",
       "      <th>21</th>\n",
       "      <td>7.1560</td>\n",
       "      <td>7.4220</td>\n",
       "    </tr>\n",
       "    <tr>\n",
       "      <th>22</th>\n",
       "      <td>6.5341</td>\n",
       "      <td>6.5217</td>\n",
       "    </tr>\n",
       "    <tr>\n",
       "      <th>23</th>\n",
       "      <td>7.2854</td>\n",
       "      <td>7.1688</td>\n",
       "    </tr>\n",
       "    <tr>\n",
       "      <th>24</th>\n",
       "      <td>6.9952</td>\n",
       "      <td>6.7594</td>\n",
       "    </tr>\n",
       "    <tr>\n",
       "      <th>25</th>\n",
       "      <td>6.8568</td>\n",
       "      <td>6.9399</td>\n",
       "    </tr>\n",
       "    <tr>\n",
       "      <th>26</th>\n",
       "      <td>7.2163</td>\n",
       "      <td>7.0133</td>\n",
       "    </tr>\n",
       "    <tr>\n",
       "      <th>27</th>\n",
       "      <td>6.6801</td>\n",
       "      <td>6.9182</td>\n",
       "    </tr>\n",
       "    <tr>\n",
       "      <th>28</th>\n",
       "      <td>6.9431</td>\n",
       "      <td>6.3346</td>\n",
       "    </tr>\n",
       "    <tr>\n",
       "      <th>29</th>\n",
       "      <td>7.0852</td>\n",
       "      <td>7.5459</td>\n",
       "    </tr>\n",
       "    <tr>\n",
       "      <th>30</th>\n",
       "      <td>6.7794</td>\n",
       "      <td>7.0992</td>\n",
       "    </tr>\n",
       "    <tr>\n",
       "      <th>31</th>\n",
       "      <td>7.2783</td>\n",
       "      <td>7.1180</td>\n",
       "    </tr>\n",
       "    <tr>\n",
       "      <th>32</th>\n",
       "      <td>7.1561</td>\n",
       "      <td>6.6965</td>\n",
       "    </tr>\n",
       "    <tr>\n",
       "      <th>33</th>\n",
       "      <td>7.3943</td>\n",
       "      <td>6.5780</td>\n",
       "    </tr>\n",
       "    <tr>\n",
       "      <th>34</th>\n",
       "      <td>6.9405</td>\n",
       "      <td>7.3875</td>\n",
       "    </tr>\n",
       "  </tbody>\n",
       "</table>\n",
       "</div>"
      ],
      "text/plain": [
       "    Unit A  Unit B\n",
       "0   6.8090  6.7703\n",
       "1   6.4376  7.5093\n",
       "2   6.9157  6.7300\n",
       "3   7.3012  6.7878\n",
       "4   7.4488  7.1522\n",
       "5   7.3871  6.8110\n",
       "6   6.8755  7.2212\n",
       "7   7.0621  6.6606\n",
       "8   6.6840  7.2402\n",
       "9   6.8236  7.0503\n",
       "10  7.3930  6.8810\n",
       "11  7.5169  7.4059\n",
       "12  6.9246  6.7652\n",
       "13  6.9256  6.0380\n",
       "14  6.5797  7.1581\n",
       "15  6.8394  7.0240\n",
       "16  6.5970  6.6672\n",
       "17  7.2705  7.4314\n",
       "18  7.2828  7.3070\n",
       "19  7.3495  6.7478\n",
       "20  6.9438  6.8889\n",
       "21  7.1560  7.4220\n",
       "22  6.5341  6.5217\n",
       "23  7.2854  7.1688\n",
       "24  6.9952  6.7594\n",
       "25  6.8568  6.9399\n",
       "26  7.2163  7.0133\n",
       "27  6.6801  6.9182\n",
       "28  6.9431  6.3346\n",
       "29  7.0852  7.5459\n",
       "30  6.7794  7.0992\n",
       "31  7.2783  7.1180\n",
       "32  7.1561  6.6965\n",
       "33  7.3943  6.5780\n",
       "34  6.9405  7.3875"
      ]
     },
     "execution_count": 51,
     "metadata": {},
     "output_type": "execute_result"
    }
   ],
   "source": [
    "\n",
    "# Load the dataset\n",
    "data=pd.read_csv('Cutlets.csv')\n",
    "data"
   ]
  },
  {
   "cell_type": "code",
   "execution_count": 52,
   "id": "30858bfa",
   "metadata": {
    "ExecuteTime": {
     "end_time": "2023-02-03T17:48:24.878731Z",
     "start_time": "2023-02-03T17:48:24.846724Z"
    }
   },
   "outputs": [
    {
     "data": {
      "text/plain": [
       "0     6.8090\n",
       "1     6.4376\n",
       "2     6.9157\n",
       "3     7.3012\n",
       "4     7.4488\n",
       "5     7.3871\n",
       "6     6.8755\n",
       "7     7.0621\n",
       "8     6.6840\n",
       "9     6.8236\n",
       "10    7.3930\n",
       "11    7.5169\n",
       "12    6.9246\n",
       "13    6.9256\n",
       "14    6.5797\n",
       "15    6.8394\n",
       "16    6.5970\n",
       "17    7.2705\n",
       "18    7.2828\n",
       "19    7.3495\n",
       "20    6.9438\n",
       "21    7.1560\n",
       "22    6.5341\n",
       "23    7.2854\n",
       "24    6.9952\n",
       "25    6.8568\n",
       "26    7.2163\n",
       "27    6.6801\n",
       "28    6.9431\n",
       "29    7.0852\n",
       "30    6.7794\n",
       "31    7.2783\n",
       "32    7.1561\n",
       "33    7.3943\n",
       "34    6.9405\n",
       "Name: Unit A, dtype: float64"
      ]
     },
     "execution_count": 52,
     "metadata": {},
     "output_type": "execute_result"
    }
   ],
   "source": [
    "unitA=pd.Series(data.iloc[:,0])\n",
    "unitA"
   ]
  },
  {
   "cell_type": "code",
   "execution_count": 53,
   "id": "57d2e4c9",
   "metadata": {
    "ExecuteTime": {
     "end_time": "2023-02-03T17:48:24.918829Z",
     "start_time": "2023-02-03T17:48:24.878731Z"
    }
   },
   "outputs": [
    {
     "ename": "NameError",
     "evalue": "name 'ImageGrab' is not defined",
     "output_type": "error",
     "traceback": [
      "\u001b[1;31m---------------------------------------------------------------------------\u001b[0m",
      "\u001b[1;31mNameError\u001b[0m                                 Traceback (most recent call last)",
      "\u001b[1;32m~\\AppData\\Local\\Temp\\ipykernel_3220\\2759288283.py\u001b[0m in \u001b[0;36m<module>\u001b[1;34m\u001b[0m\n\u001b[1;32m----> 1\u001b[1;33m \u001b[0mImageGrab\u001b[0m\u001b[1;33m.\u001b[0m\u001b[0mgrabclipboard\u001b[0m\u001b[1;33m(\u001b[0m\u001b[1;33m)\u001b[0m\u001b[1;33m\u001b[0m\u001b[1;33m\u001b[0m\u001b[0m\n\u001b[0m",
      "\u001b[1;31mNameError\u001b[0m: name 'ImageGrab' is not defined"
     ]
    }
   ],
   "source": [
    "ImageGrab.grabclipboard()"
   ]
  },
  {
   "cell_type": "code",
   "execution_count": null,
   "id": "f7940426",
   "metadata": {
    "ExecuteTime": {
     "end_time": "2023-02-03T17:48:24.918829Z",
     "start_time": "2023-02-03T17:48:24.918829Z"
    }
   },
   "outputs": [],
   "source": [
    "unitB=pd.Series(data.iloc[:,1])\n",
    "unitB"
   ]
  },
  {
   "cell_type": "code",
   "execution_count": null,
   "id": "779aed83",
   "metadata": {
    "ExecuteTime": {
     "end_time": "2023-02-03T17:48:24.926840Z",
     "start_time": "2023-02-03T17:48:24.926840Z"
    }
   },
   "outputs": [],
   "source": [
    "unitA.mean()"
   ]
  },
  {
   "cell_type": "code",
   "execution_count": null,
   "id": "d0c3d535",
   "metadata": {
    "ExecuteTime": {
     "end_time": "2023-02-03T17:48:24.926840Z",
     "start_time": "2023-02-03T17:48:24.926840Z"
    }
   },
   "outputs": [],
   "source": [
    "unitB.mean()"
   ]
  },
  {
   "cell_type": "code",
   "execution_count": null,
   "id": "fbdfafe5",
   "metadata": {
    "ExecuteTime": {
     "end_time": "2023-02-03T17:48:24.934895Z",
     "start_time": "2023-02-03T17:48:24.934895Z"
    }
   },
   "outputs": [],
   "source": [
    "data.info()"
   ]
  },
  {
   "cell_type": "code",
   "execution_count": null,
   "id": "7b2769b5",
   "metadata": {
    "ExecuteTime": {
     "end_time": "2023-02-03T17:48:24.934895Z",
     "start_time": "2023-02-03T17:48:24.934895Z"
    }
   },
   "outputs": [],
   "source": [
    "data.describe()"
   ]
  },
  {
   "cell_type": "code",
   "execution_count": null,
   "id": "baada2e4",
   "metadata": {
    "ExecuteTime": {
     "end_time": "2023-02-03T17:48:24.934895Z",
     "start_time": "2023-02-03T17:48:24.934895Z"
    }
   },
   "outputs": [],
   "source": [
    "data.isnull().sum()"
   ]
  },
  {
   "cell_type": "code",
   "execution_count": null,
   "id": "0d77a02e",
   "metadata": {
    "ExecuteTime": {
     "end_time": "2023-02-03T17:48:24.934895Z",
     "start_time": "2023-02-03T17:48:24.934895Z"
    }
   },
   "outputs": [],
   "source": [
    "plt.figure(figsize=(10,5))\n",
    "plt.subplot(121)\n",
    "plt.boxplot(unitA)\n",
    "plt.title('unitA')\n",
    "plt.subplot(122)\n",
    "plt.boxplot(unitB)\n",
    "plt.title('unitB')\n",
    "plt.show()"
   ]
  },
  {
   "cell_type": "code",
   "execution_count": null,
   "id": "7497551f",
   "metadata": {
    "ExecuteTime": {
     "end_time": "2023-02-03T17:48:24.943257Z",
     "start_time": "2023-02-03T17:48:24.943257Z"
    }
   },
   "outputs": [],
   "source": [
    "plt.figure(figsize=(8,5))\n",
    "plt.subplot(121)\n",
    "plt.hist(unitA,bins=8,edgecolor=\"red\",color=\"green\")\n",
    "plt.title('histogram of unitA')\n",
    "plt.subplot(122)\n",
    "plt.hist(unitB,bins=8,edgecolor=\"red\",color=\"green\")\n",
    "plt.title('histogram of unitB')\n",
    "plt.show()"
   ]
  },
  {
   "cell_type": "code",
   "execution_count": null,
   "id": "1bca6801",
   "metadata": {
    "ExecuteTime": {
     "end_time": "2023-02-03T17:48:24.943257Z",
     "start_time": "2023-02-03T17:48:24.943257Z"
    }
   },
   "outputs": [],
   "source": [
    "labels=(\"unitA\",\"unitB\")\n",
    "sns.distplot(unitA)\n",
    "sns.distplot(unitB)\n",
    "plt.legend(labels)\n",
    "plt.title(\"Distribution plot of UnitA and UnitB(Cutlets.csv)\")\n",
    "plt.show()\n"
   ]
  },
  {
   "cell_type": "code",
   "execution_count": null,
   "id": "518dfb53",
   "metadata": {
    "ExecuteTime": {
     "end_time": "2023-02-03T17:48:24.943257Z",
     "start_time": "2023-02-03T17:48:24.943257Z"
    }
   },
   "outputs": [],
   "source": [
    "plt.figure(figsize=(2,2))\n",
    "sms.qqplot(data[\"Unit A\"],line=\"q\")\n",
    "plt.title('UnitA')\n",
    "sms.qqplot(data[\"Unit B\"],line=\"q\")\n",
    "plt.title('UnitB')\n",
    "plt.show()"
   ]
  },
  {
   "cell_type": "code",
   "execution_count": null,
   "id": "f8b86f39",
   "metadata": {
    "ExecuteTime": {
     "end_time": "2023-02-03T17:48:24.951269Z",
     "start_time": "2023-02-03T17:48:24.951269Z"
    }
   },
   "outputs": [],
   "source": [
    "statistics,p_value=stats.ttest_ind(unitA,unitB,alternative=\"two-sided\")"
   ]
  },
  {
   "cell_type": "raw",
   "id": "dd14f9b4",
   "metadata": {},
   "source": [
    "checking whether is there any significant difference between UnitA and UnitB 0r they are equal at 5% significance level\n",
    "Assume-----> H0=Null hypothesis      ====>mean(unitA)=mean(unitB)\n",
    "      -----> H1=Alternate hypothesis ====>mean(unitA)!=mean(unitB)\n",
    "      \n",
    "      significance=5%     alpha=0.05 \n",
    "      \n",
    "      As it is two-tailed test  alpha/2=0.025"
   ]
  },
  {
   "cell_type": "code",
   "execution_count": null,
   "id": "25179e7c",
   "metadata": {
    "ExecuteTime": {
     "end_time": "2023-02-03T17:48:24.954442Z",
     "start_time": "2023-02-03T17:48:24.954442Z"
    }
   },
   "outputs": [],
   "source": [
    "alpha=0.025\n",
    "print(\"significance=%.3f,p_value=%.3f\" % (alpha,p_value))\n",
    "if p_value>=alpha:\n",
    "    print(\"p_value>alpha,Therefore accept null hypothesis, No significant difference both unitA and unitB\")\n",
    "else:\n",
    "    print(\"Reject null Hypothesis\")\n",
    "print(\"=\"*80)\n",
    "print('Hence its statistically proven that mean(unitA)=mean(unitB)')\n",
    "print(\"=\"*80)"
   ]
  },
  {
   "cell_type": "markdown",
   "id": "fd36ffdc",
   "metadata": {},
   "source": [
    "# Question-2"
   ]
  },
  {
   "cell_type": "raw",
   "id": "a52e09e1",
   "metadata": {
    "ExecuteTime": {
     "end_time": "2023-02-03T06:09:58.467002Z",
     "start_time": "2023-02-03T06:09:58.450852Z"
    }
   },
   "source": [
    "\"\" A hospital wants to determine whether there is any difference in the average Turn Around Time (TAT) of reports of the \n",
    "  laboratories on their preferred list. They collected a random sample and recorded TAT for reports of 4 laboratories.\n",
    "  TAT is defined as sample collected to report dispatch.\n",
    "  Analyze the data and determine whether there is any difference in average TAT among the different laboratories at\n",
    "  5% significance level.\"\"\n",
    "\n",
    "  <<Minitab File: LabTAT.mtw>>"
   ]
  },
  {
   "cell_type": "code",
   "execution_count": null,
   "id": "da9a3030",
   "metadata": {
    "ExecuteTime": {
     "end_time": "2023-02-03T17:48:24.954442Z",
     "start_time": "2023-02-03T17:48:24.954442Z"
    }
   },
   "outputs": [],
   "source": [
    "lab=pd.read_csv(\"LabTAT.csv\")\n",
    "lab"
   ]
  },
  {
   "cell_type": "code",
   "execution_count": null,
   "id": "2bcaeddc",
   "metadata": {
    "ExecuteTime": {
     "end_time": "2023-02-03T17:48:24.959461Z",
     "start_time": "2023-02-03T17:48:24.959461Z"
    }
   },
   "outputs": [],
   "source": [
    "lab.describe()"
   ]
  },
  {
   "cell_type": "raw",
   "id": "620c6478",
   "metadata": {},
   "source": [
    "As the comparision of mean is more than 2 samples we use ANOVA TEST.Also called as F-test/fF statistics"
   ]
  },
  {
   "cell_type": "raw",
   "id": "184f121c",
   "metadata": {},
   "source": [
    "Assumption:\n",
    "    H0=Null Hypothesis       => NO DIFFERENCE IN AVERAGE TAT\n",
    "    H1=Alternate Hypothesis  => DIFFERENCE IN AVERAGE TAT\n",
    "    \n",
    "    Significance=5%\n",
    "    alpha=0.05"
   ]
  },
  {
   "cell_type": "code",
   "execution_count": null,
   "id": "2e7252d9",
   "metadata": {
    "ExecuteTime": {
     "end_time": "2023-02-03T17:48:24.959461Z",
     "start_time": "2023-02-03T17:48:24.959461Z"
    }
   },
   "outputs": [],
   "source": [
    "alpha=0.05\n",
    "p_value=stats.f_oneway(lab.iloc[:,0],lab.iloc[:,1],lab.iloc[:,2],lab.iloc[:,3])\n",
    "p_value"
   ]
  },
  {
   "cell_type": "raw",
   "id": "71120c85",
   "metadata": {},
   "source": [
    "As the p_value is greater than alpha (p_value=2.1156708949992414e-57>alpha=0.05) we accept Null Hypothesis.\n",
    "\n",
    "Therefore,Statistically there is no any difference in average TAT among the different laboratories at 5% significance level.\n",
    "\n"
   ]
  },
  {
   "cell_type": "markdown",
   "id": "3acc9665",
   "metadata": {},
   "source": [
    "# Question-3"
   ]
  },
  {
   "cell_type": "raw",
   "id": "590938a0",
   "metadata": {},
   "source": [
    "Itslf in question that\n",
    "    H0=Null Hypothesis      ==>All proportion are equal\n",
    "    H1=Alternate Hypothesis ==>Not all proportions are equal\n",
    "    Asusal alpha value=0.05\n",
    "As the comparision is between porportions we solve using CHI-SQUARE TEST which is also called Non-Parametric Test."
   ]
  },
  {
   "cell_type": "code",
   "execution_count": null,
   "id": "cb22169a",
   "metadata": {
    "ExecuteTime": {
     "end_time": "2023-02-03T17:48:24.967573Z",
     "start_time": "2023-02-03T17:48:24.967573Z"
    }
   },
   "outputs": [],
   "source": [
    "alpha=0.05\n",
    "buyers=pd.read_csv(\"BuyerRatio.csv\")\n",
    "buyers"
   ]
  },
  {
   "cell_type": "code",
   "execution_count": null,
   "id": "06c717eb",
   "metadata": {
    "ExecuteTime": {
     "end_time": "2023-02-03T17:48:24.975582Z",
     "start_time": "2023-02-03T17:48:24.975582Z"
    }
   },
   "outputs": [],
   "source": [
    "observed_value=buyers.iloc[:,1:5]\n",
    "observed_value"
   ]
  },
  {
   "cell_type": "code",
   "execution_count": null,
   "id": "f76487f9",
   "metadata": {
    "ExecuteTime": {
     "end_time": "2023-02-03T17:48:24.975582Z",
     "start_time": "2023-02-03T17:48:24.975582Z"
    }
   },
   "outputs": [],
   "source": [
    "expected_value=stats.chi2_contingency(observed_value)\n",
    "expected_value"
   ]
  },
  {
   "cell_type": "code",
   "execution_count": null,
   "id": "f777acac",
   "metadata": {
    "ExecuteTime": {
     "end_time": "2023-02-03T17:48:24.975582Z",
     "start_time": "2023-02-03T17:48:24.975582Z"
    }
   },
   "outputs": [],
   "source": [
    "observed_value=np.array([  50,  142,  131,   70, 435, 1523, 1356,  750])\n",
    "expected_value=np.array([42.76531299,  146.81287862,  131.11756787,   72.30424052, 442.23468701, 1518.18712138, 1355.88243213,  747.69575948])"
   ]
  },
  {
   "cell_type": "code",
   "execution_count": null,
   "id": "c330c37d",
   "metadata": {
    "ExecuteTime": {
     "end_time": "2023-02-03T17:48:24.983582Z",
     "start_time": "2023-02-03T17:48:24.983582Z"
    }
   },
   "outputs": [],
   "source": [
    "statistics,p_value=stats.chisquare(observed_value,expected_value)\n",
    "print(\"statistics value=\",statistics,\"p_value=\",p_value)\n",
    "print(\"=\"*70)\n",
    "if (p_value>alpha):\n",
    "    print(\"we accept NULL HYPOTHESIS, All proportions are equal\")\n",
    "else:\n",
    "    print(\"Not all the proportions are equal,accept alternate Hypothesis\")\n",
    "print(\"=\"*70)"
   ]
  },
  {
   "cell_type": "markdown",
   "id": "19f7a668",
   "metadata": {},
   "source": [
    "# Question-4"
   ]
  },
  {
   "cell_type": "code",
   "execution_count": null,
   "id": "329a607a",
   "metadata": {
    "ExecuteTime": {
     "end_time": "2023-02-03T17:48:24.983582Z",
     "start_time": "2023-02-03T17:48:24.983582Z"
    }
   },
   "outputs": [],
   "source": [
    "customers=pd.read_csv(\"Costomer+OrderForm.csv\")\n",
    "customers"
   ]
  },
  {
   "cell_type": "code",
   "execution_count": null,
   "id": "6088bd2a",
   "metadata": {
    "ExecuteTime": {
     "end_time": "2023-02-03T17:48:24.983582Z",
     "start_time": "2023-02-03T17:48:24.983582Z"
    }
   },
   "outputs": [],
   "source": [
    "customers.describe()"
   ]
  },
  {
   "cell_type": "code",
   "execution_count": null,
   "id": "b9a23148",
   "metadata": {
    "ExecuteTime": {
     "end_time": "2023-02-03T17:48:24.991583Z",
     "start_time": "2023-02-03T17:48:24.991583Z"
    }
   },
   "outputs": [],
   "source": [
    "print(customers['Phillippines'].value_counts(),'\\n',customers['Indonesia'].value_counts(),'\\n',customers['Malta'].value_counts(),'\\n',customers['India'].value_counts())"
   ]
  },
  {
   "cell_type": "code",
   "execution_count": null,
   "id": "0c304cf3",
   "metadata": {
    "ExecuteTime": {
     "end_time": "2023-02-03T17:48:24.991583Z",
     "start_time": "2023-02-03T17:48:24.991583Z"
    }
   },
   "outputs": [],
   "source": [
    "contingency_table=([271,267,269,280],[29,33,31,20])\n",
    "print(contingency_table)"
   ]
  },
  {
   "cell_type": "code",
   "execution_count": null,
   "id": "c0664de1",
   "metadata": {
    "ExecuteTime": {
     "end_time": "2023-02-03T17:48:24.999582Z",
     "start_time": "2023-02-03T17:48:24.999582Z"
    }
   },
   "outputs": [],
   "source": [
    "stats,p,df,exp=stats.chi2_contingency(contingency_table)\n",
    "print(\"statistics=\",stats,'\\n',\"p_value=\",p,'\\n',\"degrees of freedom=\",df,'\\n',\"expected values=\",exp)"
   ]
  },
  {
   "cell_type": "code",
   "execution_count": null,
   "id": "9615c79c",
   "metadata": {
    "ExecuteTime": {
     "end_time": "2023-02-03T17:48:24.999582Z",
     "start_time": "2023-02-03T17:48:24.999582Z"
    }
   },
   "outputs": [],
   "source": [
    "observed=np.array([271, 267, 269, 280, 29, 33, 31, 20])\n",
    "expected=np.array([271.75, 271.75, 271.75, 271.75, 28.25,  28.25,  28.25,  28.25])"
   ]
  },
  {
   "cell_type": "code",
   "execution_count": null,
   "id": "e9bd628d",
   "metadata": {
    "ExecuteTime": {
     "end_time": "2023-02-03T17:48:25.008256Z",
     "start_time": "2023-02-03T17:48:25.007753Z"
    }
   },
   "outputs": [],
   "source": [
    "stats,p_value=chisquare(observed,expected,ddof=df)\n",
    "print(\"statistics =\",stats,\"p_value=\",p_value)"
   ]
  },
  {
   "cell_type": "raw",
   "id": "7af98726",
   "metadata": {},
   "source": [
    "Compare pvalue with α = 0.05 (At 5% significance level)\n",
    "\n",
    "As pvalue is 0.425 which is not equal to α=0.5\n",
    "\n",
    "We fail to reject Null Hypothesis because of lack of evidence."
   ]
  },
  {
   "cell_type": "markdown",
   "id": "4ca7d241",
   "metadata": {},
   "source": [
    "# ---------------------------------------------------------------------------------------------------------------"
   ]
  }
 ],
 "metadata": {
  "kernelspec": {
   "display_name": "Python 3 (ipykernel)",
   "language": "python",
   "name": "python3"
  },
  "language_info": {
   "codemirror_mode": {
    "name": "ipython",
    "version": 3
   },
   "file_extension": ".py",
   "mimetype": "text/x-python",
   "name": "python",
   "nbconvert_exporter": "python",
   "pygments_lexer": "ipython3",
   "version": "3.9.13"
  }
 },
 "nbformat": 4,
 "nbformat_minor": 5
}
